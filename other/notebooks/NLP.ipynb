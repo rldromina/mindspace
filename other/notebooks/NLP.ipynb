{
  "nbformat": 4,
  "nbformat_minor": 0,
  "metadata": {
    "colab": {
      "name": "NLP.ipynb",
      "version": "0.3.2",
      "provenance": [],
      "collapsed_sections": []
    },
    "kernelspec": {
      "name": "python3",
      "display_name": "Python 3"
    },
    "accelerator": "GPU"
  },
  "cells": [
    {
      "metadata": {
        "id": "-Fk1n9I6Akna",
        "colab_type": "text"
      },
      "cell_type": "markdown",
      "source": [
        "## Un ejemplo de comparación entre embeddings"
      ]
    },
    {
      "metadata": {
        "id": "d3kQLYtL9fES",
        "colab_type": "text"
      },
      "cell_type": "markdown",
      "source": [
        "miren que lindo latex\n",
        "\n",
        "$${\\displaystyle{\n",
        "\\begin{aligned} min_{Q} D_{\\text{KL}}(Q_{t-1}\\|Q_{t}) - |Q| \\newline\n",
        "D_{\\text{KL}}(Q_{t-1}\\|Q_{t}) &= \\sum _{i}Q(i) \\ln \\left({\\frac {Q(i)}{Q_{t-1}(i)}}\\right)\n",
        "\\end{aligned}}}\n",
        "Q$$"
      ]
    },
    {
      "metadata": {
        "id": "320UQOMoB8yb",
        "colab_type": "text"
      },
      "cell_type": "markdown",
      "source": [
        "### Instalamos cosas necesarias e importamos"
      ]
    },
    {
      "metadata": {
        "id": "6VWWIf18eMJd",
        "colab_type": "code",
        "colab": {
          "base_uri": "https://localhost:8080/",
          "height": 190
        },
        "outputId": "384cadd0-c42d-43f2-decc-c04496ffe9f8"
      },
      "cell_type": "code",
      "source": [
        "# instalamos librerias\n",
        "!python -m spacy download es_core_news_md\n",
        "!pip install unidecode"
      ],
      "execution_count": 1,
      "outputs": [
        {
          "output_type": "stream",
          "text": [
            "Requirement already satisfied: es_core_news_md==2.0.0 from https://github.com/explosion/spacy-models/releases/download/es_core_news_md-2.0.0/es_core_news_md-2.0.0.tar.gz#egg=es_core_news_md==2.0.0 in /usr/local/lib/python3.6/dist-packages (2.0.0)\n",
            "\n",
            "\u001b[93m    Linking successful\u001b[0m\n",
            "    /usr/local/lib/python3.6/dist-packages/es_core_news_md -->\n",
            "    /usr/local/lib/python3.6/dist-packages/spacy/data/es_core_news_md\n",
            "\n",
            "    You can now load the model via spacy.load('es_core_news_md')\n",
            "\n",
            "Requirement already satisfied: unidecode in /usr/local/lib/python3.6/dist-packages (1.0.23)\n"
          ],
          "name": "stdout"
        }
      ]
    },
    {
      "metadata": {
        "id": "Ji95HjCUSOmq",
        "colab_type": "code",
        "colab": {}
      },
      "cell_type": "code",
      "source": [
        "# Si quisieramos usar otros embeddings:\n",
        "# https://github.com/uchile-nlp/spanish-word-embeddings\n",
        "#!wget -nc http://dcc.uchile.cl/~jperez/word-embeddings/glove-sbwc.i25.vec.gz\n",
        "#!python -m spacy init-model es /mindspace --vectors-loc glove-sbwc.i25.vec.gz"
      ],
      "execution_count": 0,
      "outputs": []
    },
    {
      "metadata": {
        "id": "XSe7thctBkgn",
        "colab_type": "code",
        "colab": {
          "base_uri": "https://localhost:8080/",
          "height": 102
        },
        "outputId": "e6a35039-7104-452c-a817-818a1d07b9a9"
      },
      "cell_type": "code",
      "source": [
        "# importamos\n",
        "import numpy as np\n",
        "import pandas as pd\n",
        "import unidecode\n",
        "import spacy\n",
        "import nltk\n",
        "from nltk.corpus import stopwords\n",
        "nltk.download('punkt')\n",
        "nltk.download('stopwords')"
      ],
      "execution_count": 3,
      "outputs": [
        {
          "output_type": "stream",
          "text": [
            "[nltk_data] Downloading package punkt to /root/nltk_data...\n",
            "[nltk_data]   Package punkt is already up-to-date!\n",
            "[nltk_data] Downloading package stopwords to /root/nltk_data...\n",
            "[nltk_data]   Package stopwords is already up-to-date!\n"
          ],
          "name": "stdout"
        },
        {
          "output_type": "execute_result",
          "data": {
            "text/plain": [
              "True"
            ]
          },
          "metadata": {
            "tags": []
          },
          "execution_count": 3
        }
      ]
    },
    {
      "metadata": {
        "id": "7GoD4svUCBHa",
        "colab_type": "text"
      },
      "cell_type": "markdown",
      "source": [
        "#### Definimos un par de ejemplos"
      ]
    },
    {
      "metadata": {
        "id": "TyF5dkgf9eNN",
        "colab_type": "code",
        "colab": {}
      },
      "cell_type": "code",
      "source": [
        "# ejemplos\n",
        "musico = \"el video muestra una escena en una playa, se escucha la gente riendo y jugando. El mar está tranquilo, no se escuchan muchas olas, y el cielo despejado. Hay una pareja con un chico, que se alejó para jugar con una pelotita. Hay un grupo de adolescentes lejos hacia la derecha donde uno toca la guitarra.\"\n",
        "fotografo = \"Se ve un día soleado de verano en una playa, con vistas al horizonte. Hay una pareja acostada sobre una manta verde y violeta de figuras geométricas, y varias sombrillas celestes a la izquierda. A lo lejos se ve el mar, con agua bastante clara. El hombre de la pareja tiene un bigote y aparenta unos 45 años, la mujer está de espaldas.\""
      ],
      "execution_count": 0,
      "outputs": []
    },
    {
      "metadata": {
        "id": "c6vEDxVyBklY",
        "colab_type": "code",
        "colab": {}
      },
      "cell_type": "code",
      "source": [
        "# Cargamos la data del modulo para español\n",
        "nlp = spacy.load('es_core_news_md')"
      ],
      "execution_count": 0,
      "outputs": []
    },
    {
      "metadata": {
        "id": "41mBQzkmCFse",
        "colab_type": "code",
        "colab": {}
      },
      "cell_type": "code",
      "source": [
        "# pasamos los strings a un objeto \"nlp\" de spacy\n",
        "musico = nlp(musico)\n",
        "fotografo = nlp(fotografo)"
      ],
      "execution_count": 0,
      "outputs": []
    },
    {
      "metadata": {
        "id": "zHJSHQM_CNPZ",
        "colab_type": "code",
        "colab": {
          "base_uri": "https://localhost:8080/",
          "height": 34
        },
        "outputId": "45e6d956-6c6a-4607-dcf8-0ee2bc9ee728"
      },
      "cell_type": "code",
      "source": [
        "# Este objeto ya trae muchos atributos utiles. Asi accedemos a las priemras palabras\n",
        "musico[0], fotografo[0]"
      ],
      "execution_count": 7,
      "outputs": [
        {
          "output_type": "execute_result",
          "data": {
            "text/plain": [
              "(el, Se)"
            ]
          },
          "metadata": {
            "tags": []
          },
          "execution_count": 7
        }
      ]
    },
    {
      "metadata": {
        "id": "Z-hAQI0hCbBF",
        "colab_type": "code",
        "colab": {}
      },
      "cell_type": "code",
      "source": [
        "# Calcular distancia coseno entre vectores\n",
        "def similitud_coseno(x, y):\n",
        "    return x @ y / (np.linalg.norm(x) * np.linalg.norm(y))"
      ],
      "execution_count": 0,
      "outputs": []
    },
    {
      "metadata": {
        "id": "I5Ft8hhvCm3f",
        "colab_type": "code",
        "colab": {
          "base_uri": "https://localhost:8080/",
          "height": 34
        },
        "outputId": "bf05c91e-6c9c-4aef-8194-c0aa7fe4a921"
      },
      "cell_type": "code",
      "source": [
        "# en musico.vector tenemos el word embedding para ese ejempo\n",
        "similitud_coseno(musico.vector, fotografo.vector)"
      ],
      "execution_count": 9,
      "outputs": [
        {
          "output_type": "execute_result",
          "data": {
            "text/plain": [
              "0.9927855"
            ]
          },
          "metadata": {
            "tags": []
          },
          "execution_count": 9
        }
      ]
    },
    {
      "metadata": {
        "id": "ZCIHCpyVDXDz",
        "colab_type": "code",
        "colab": {}
      },
      "cell_type": "code",
      "source": [
        "# descargamos una lista de palabras que no aportan (articulos, etc)\n",
        "STOP_WORDS = set(stopwords.words('spanish'))"
      ],
      "execution_count": 0,
      "outputs": []
    },
    {
      "metadata": {
        "id": "XGz2kA4OCyhp",
        "colab_type": "code",
        "colab": {}
      },
      "cell_type": "code",
      "source": [
        "# ahora hacemos una version del ejemplo mas limpia: pasamos todo a minuscula, aplicamos lemmatizacion (ej: de corriamos a correr), y sacamos tildes\n",
        "musico_clean = nlp(' '.join([unidecode.unidecode(w.string.strip()) for w in musico if w.lemma_.lower() not in STOP_WORDS]))\n",
        "fotografo_clean = nlp(' '.join([unidecode.unidecode(w.string.strip()) for w in fotografo if w.lemma_.lower() not in STOP_WORDS]))"
      ],
      "execution_count": 0,
      "outputs": []
    },
    {
      "metadata": {
        "id": "Ki_1Ztt0cfdt",
        "colab_type": "code",
        "colab": {}
      },
      "cell_type": "code",
      "source": [
        "# vectores de referencia para sonido y vision\n",
        "sonido = ['música','sonido','melodía','armonía','grave','agudo']\n",
        "vision = ['fotografía','imagen','color','forma','contorno','linea']"
      ],
      "execution_count": 0,
      "outputs": []
    },
    {
      "metadata": {
        "id": "S5C8X3PCCyl-",
        "colab_type": "code",
        "colab": {
          "base_uri": "https://localhost:8080/",
          "height": 85
        },
        "outputId": "3ec52184-ff0c-41c2-921f-b6ce41ef4587"
      },
      "cell_type": "code",
      "source": [
        "#ejemplos\n",
        "o1, o2 = 'escuchar sonido violín orquesta', 'miraba reflejo color luna oscuro'\n",
        "e1, e2 = nlp(o1).vector, nlp(o2).vector\n",
        "\n",
        "#vectores de referencia\n",
        "r1, r2 = nlp(' '.join(sonido)).vector, nlp(' '.join(vision)).vector\n",
        "\n",
        "#distancias\n",
        "print('|e1 - r1|', similitud_coseno(e1, r1))\n",
        "print('|e2 - r1|', similitud_coseno(e2, r1))\n",
        "print('|e1 - r2|', similitud_coseno(e1, r2))\n",
        "print('|e2 - r2|', similitud_coseno(e2, r2))"
      ],
      "execution_count": 13,
      "outputs": [
        {
          "output_type": "stream",
          "text": [
            "|e1 - r1| 0.855635\n",
            "|e2 - r1| 0.75515664\n",
            "|e1 - r2| 0.6642258\n",
            "|e2 - r2| 0.86068857\n"
          ],
          "name": "stdout"
        }
      ]
    },
    {
      "metadata": {
        "id": "4uRB7sVaFzG0",
        "colab_type": "text"
      },
      "cell_type": "markdown",
      "source": [
        "Qué estamos haciendo?\n",
        "\n",
        "El objeto nlp de SpaCy nos permite tener muchos atributos de las palabras fácilmente. \n",
        "Generamos uno de estos con el string a analizar:\n",
        "`var = nlp('palabra')`\n",
        "Ahora tenemos en `var.vector` su embedding, y muchas otras cosas como `var.lemma_` que es su versión normalizada.\n"
      ]
    },
    {
      "metadata": {
        "id": "3qFctPX1e6oI",
        "colab_type": "code",
        "colab": {
          "base_uri": "https://localhost:8080/",
          "height": 34
        },
        "outputId": "e1c54290-9ce7-48dc-f6a6-d0b9593f1cbc"
      },
      "cell_type": "code",
      "source": [
        "# vemos que los que entrenaron esto son medio tontos, y no quitaron tildes...\n",
        "nlp('música').similarity(nlp('musica'))"
      ],
      "execution_count": 14,
      "outputs": [
        {
          "output_type": "execute_result",
          "data": {
            "text/plain": [
              "0.6437335591281158"
            ]
          },
          "metadata": {
            "tags": []
          },
          "execution_count": 14
        }
      ]
    },
    {
      "metadata": {
        "id": "WgKwqUQHrn5V",
        "colab_type": "code",
        "colab": {}
      },
      "cell_type": "code",
      "source": [
        "len(nlp.vocab)"
      ],
      "execution_count": 0,
      "outputs": []
    },
    {
      "metadata": {
        "id": "3aNQj8ybmyWG",
        "colab_type": "text"
      },
      "cell_type": "markdown",
      "source": [
        "### De acá en adelante no le den bola por ahora"
      ]
    },
    {
      "metadata": {
        "id": "DVnq-aoDFKhq",
        "colab_type": "code",
        "colab": {}
      },
      "cell_type": "code",
      "source": [
        "#!pip install \"dask[complete]\""
      ],
      "execution_count": 0,
      "outputs": []
    },
    {
      "metadata": {
        "id": "jNMA11SofF-V",
        "colab_type": "code",
        "colab": {}
      },
      "cell_type": "code",
      "source": [
        "vecs = [w.vector for w in nlp.vocab]"
      ],
      "execution_count": 0,
      "outputs": []
    },
    {
      "metadata": {
        "id": "NNVvPpUkNAid",
        "colab_type": "code",
        "colab": {}
      },
      "cell_type": "code",
      "source": [
        "full = pd.DataFrame(vecs, index = [w.text for w in nlp.vocab])"
      ],
      "execution_count": 0,
      "outputs": []
    },
    {
      "metadata": {
        "id": "gwTMxELMm7Os",
        "colab_type": "code",
        "colab": {}
      },
      "cell_type": "code",
      "source": [
        "del vecs"
      ],
      "execution_count": 0,
      "outputs": []
    },
    {
      "metadata": {
        "id": "cIH_8CDoYVSn",
        "colab_type": "code",
        "colab": {}
      },
      "cell_type": "code",
      "source": [
        "full = full[(full.T != 0).any()]"
      ],
      "execution_count": 0,
      "outputs": []
    },
    {
      "metadata": {
        "id": "oyllR86NhlC-",
        "colab_type": "code",
        "colab": {
          "base_uri": "https://localhost:8080/",
          "height": 253
        },
        "outputId": "2a2a1abd-c2c7-4896-d40d-d029fceff96e"
      },
      "cell_type": "code",
      "source": [
        "full.sample(5)"
      ],
      "execution_count": 20,
      "outputs": [
        {
          "output_type": "execute_result",
          "data": {
            "text/html": [
              "<div>\n",
              "<style scoped>\n",
              "    .dataframe tbody tr th:only-of-type {\n",
              "        vertical-align: middle;\n",
              "    }\n",
              "\n",
              "    .dataframe tbody tr th {\n",
              "        vertical-align: top;\n",
              "    }\n",
              "\n",
              "    .dataframe thead th {\n",
              "        text-align: right;\n",
              "    }\n",
              "</style>\n",
              "<table border=\"1\" class=\"dataframe\">\n",
              "  <thead>\n",
              "    <tr style=\"text-align: right;\">\n",
              "      <th></th>\n",
              "      <th>0</th>\n",
              "      <th>1</th>\n",
              "      <th>2</th>\n",
              "      <th>3</th>\n",
              "      <th>4</th>\n",
              "      <th>5</th>\n",
              "      <th>6</th>\n",
              "      <th>7</th>\n",
              "      <th>8</th>\n",
              "      <th>9</th>\n",
              "      <th>...</th>\n",
              "      <th>40</th>\n",
              "      <th>41</th>\n",
              "      <th>42</th>\n",
              "      <th>43</th>\n",
              "      <th>44</th>\n",
              "      <th>45</th>\n",
              "      <th>46</th>\n",
              "      <th>47</th>\n",
              "      <th>48</th>\n",
              "      <th>49</th>\n",
              "    </tr>\n",
              "  </thead>\n",
              "  <tbody>\n",
              "    <tr>\n",
              "      <th>Cruzados</th>\n",
              "      <td>0.189266</td>\n",
              "      <td>0.769406</td>\n",
              "      <td>-0.317511</td>\n",
              "      <td>-0.143724</td>\n",
              "      <td>0.904029</td>\n",
              "      <td>-0.798096</td>\n",
              "      <td>0.134045</td>\n",
              "      <td>0.390490</td>\n",
              "      <td>0.200463</td>\n",
              "      <td>1.155759</td>\n",
              "      <td>...</td>\n",
              "      <td>0.175721</td>\n",
              "      <td>0.784642</td>\n",
              "      <td>-0.540075</td>\n",
              "      <td>-0.783384</td>\n",
              "      <td>1.106435</td>\n",
              "      <td>-0.485407</td>\n",
              "      <td>-0.594081</td>\n",
              "      <td>-1.450064</td>\n",
              "      <td>0.526385</td>\n",
              "      <td>-0.636500</td>\n",
              "    </tr>\n",
              "    <tr>\n",
              "      <th>EXELENTE</th>\n",
              "      <td>-0.353908</td>\n",
              "      <td>-0.426671</td>\n",
              "      <td>-0.388342</td>\n",
              "      <td>-0.417906</td>\n",
              "      <td>-0.554919</td>\n",
              "      <td>-0.182105</td>\n",
              "      <td>-0.061681</td>\n",
              "      <td>0.127385</td>\n",
              "      <td>-0.300330</td>\n",
              "      <td>-0.016929</td>\n",
              "      <td>...</td>\n",
              "      <td>-0.522508</td>\n",
              "      <td>-0.143722</td>\n",
              "      <td>-0.029164</td>\n",
              "      <td>0.100764</td>\n",
              "      <td>0.302991</td>\n",
              "      <td>-0.144569</td>\n",
              "      <td>-0.208229</td>\n",
              "      <td>0.053257</td>\n",
              "      <td>-0.338351</td>\n",
              "      <td>0.040218</td>\n",
              "    </tr>\n",
              "    <tr>\n",
              "      <th>arrebatos</th>\n",
              "      <td>-0.361051</td>\n",
              "      <td>-0.582987</td>\n",
              "      <td>0.232902</td>\n",
              "      <td>-0.243333</td>\n",
              "      <td>-0.105624</td>\n",
              "      <td>-0.157502</td>\n",
              "      <td>-0.436084</td>\n",
              "      <td>0.227819</td>\n",
              "      <td>-0.394310</td>\n",
              "      <td>1.630682</td>\n",
              "      <td>...</td>\n",
              "      <td>0.426599</td>\n",
              "      <td>0.566566</td>\n",
              "      <td>0.260469</td>\n",
              "      <td>-0.245371</td>\n",
              "      <td>0.077383</td>\n",
              "      <td>-0.606782</td>\n",
              "      <td>-0.212723</td>\n",
              "      <td>0.233458</td>\n",
              "      <td>0.258994</td>\n",
              "      <td>-0.344367</td>\n",
              "    </tr>\n",
              "    <tr>\n",
              "      <th>conveni</th>\n",
              "      <td>0.069903</td>\n",
              "      <td>-0.151023</td>\n",
              "      <td>0.034627</td>\n",
              "      <td>0.029339</td>\n",
              "      <td>-0.011479</td>\n",
              "      <td>-0.154196</td>\n",
              "      <td>0.071619</td>\n",
              "      <td>0.020375</td>\n",
              "      <td>0.018038</td>\n",
              "      <td>-0.079844</td>\n",
              "      <td>...</td>\n",
              "      <td>0.093310</td>\n",
              "      <td>0.085104</td>\n",
              "      <td>0.027310</td>\n",
              "      <td>0.034813</td>\n",
              "      <td>-0.018784</td>\n",
              "      <td>0.051851</td>\n",
              "      <td>0.067418</td>\n",
              "      <td>0.073830</td>\n",
              "      <td>0.017438</td>\n",
              "      <td>0.024746</td>\n",
              "    </tr>\n",
              "    <tr>\n",
              "      <th>sumas</th>\n",
              "      <td>-0.058917</td>\n",
              "      <td>0.245569</td>\n",
              "      <td>0.860402</td>\n",
              "      <td>0.359576</td>\n",
              "      <td>-0.018996</td>\n",
              "      <td>0.406509</td>\n",
              "      <td>0.057397</td>\n",
              "      <td>0.234608</td>\n",
              "      <td>0.387314</td>\n",
              "      <td>1.882302</td>\n",
              "      <td>...</td>\n",
              "      <td>1.425870</td>\n",
              "      <td>-0.225105</td>\n",
              "      <td>-0.455502</td>\n",
              "      <td>0.491791</td>\n",
              "      <td>0.701733</td>\n",
              "      <td>-0.541119</td>\n",
              "      <td>0.510187</td>\n",
              "      <td>-2.056892</td>\n",
              "      <td>0.826820</td>\n",
              "      <td>0.269376</td>\n",
              "    </tr>\n",
              "  </tbody>\n",
              "</table>\n",
              "<p>5 rows × 50 columns</p>\n",
              "</div>"
            ],
            "text/plain": [
              "                 0         1         2         3         4         5   \\\n",
              "Cruzados   0.189266  0.769406 -0.317511 -0.143724  0.904029 -0.798096   \n",
              "EXELENTE  -0.353908 -0.426671 -0.388342 -0.417906 -0.554919 -0.182105   \n",
              "arrebatos -0.361051 -0.582987  0.232902 -0.243333 -0.105624 -0.157502   \n",
              "conveni    0.069903 -0.151023  0.034627  0.029339 -0.011479 -0.154196   \n",
              "sumas     -0.058917  0.245569  0.860402  0.359576 -0.018996  0.406509   \n",
              "\n",
              "                 6         7         8         9     ...           40  \\\n",
              "Cruzados   0.134045  0.390490  0.200463  1.155759    ...     0.175721   \n",
              "EXELENTE  -0.061681  0.127385 -0.300330 -0.016929    ...    -0.522508   \n",
              "arrebatos -0.436084  0.227819 -0.394310  1.630682    ...     0.426599   \n",
              "conveni    0.071619  0.020375  0.018038 -0.079844    ...     0.093310   \n",
              "sumas      0.057397  0.234608  0.387314  1.882302    ...     1.425870   \n",
              "\n",
              "                 41        42        43        44        45        46  \\\n",
              "Cruzados   0.784642 -0.540075 -0.783384  1.106435 -0.485407 -0.594081   \n",
              "EXELENTE  -0.143722 -0.029164  0.100764  0.302991 -0.144569 -0.208229   \n",
              "arrebatos  0.566566  0.260469 -0.245371  0.077383 -0.606782 -0.212723   \n",
              "conveni    0.085104  0.027310  0.034813 -0.018784  0.051851  0.067418   \n",
              "sumas     -0.225105 -0.455502  0.491791  0.701733 -0.541119  0.510187   \n",
              "\n",
              "                 47        48        49  \n",
              "Cruzados  -1.450064  0.526385 -0.636500  \n",
              "EXELENTE   0.053257 -0.338351  0.040218  \n",
              "arrebatos  0.233458  0.258994 -0.344367  \n",
              "conveni    0.073830  0.017438  0.024746  \n",
              "sumas     -2.056892  0.826820  0.269376  \n",
              "\n",
              "[5 rows x 50 columns]"
            ]
          },
          "metadata": {
            "tags": []
          },
          "execution_count": 20
        }
      ]
    },
    {
      "metadata": {
        "id": "wcTQfZVfFYd6",
        "colab_type": "code",
        "colab": {
          "base_uri": "https://localhost:8080/",
          "height": 119
        },
        "outputId": "ecd62626-d1c4-43db-9089-7816de482f60"
      },
      "cell_type": "code",
      "source": [
        "# https://github.com/lmcinnes/umap\n",
        "!pip install umap-learn"
      ],
      "execution_count": 21,
      "outputs": [
        {
          "output_type": "stream",
          "text": [
            "Requirement already satisfied: umap-learn in /usr/local/lib/python3.6/dist-packages (0.3.6)\n",
            "Requirement already satisfied: numba>=0.37 in /usr/local/lib/python3.6/dist-packages (from umap-learn) (0.40.1)\n",
            "Requirement already satisfied: numpy>=1.13 in /usr/local/lib/python3.6/dist-packages (from umap-learn) (1.14.6)\n",
            "Requirement already satisfied: scipy>=0.19 in /usr/local/lib/python3.6/dist-packages (from umap-learn) (1.1.0)\n",
            "Requirement already satisfied: scikit-learn>=0.16 in /usr/local/lib/python3.6/dist-packages (from umap-learn) (0.19.2)\n",
            "Requirement already satisfied: llvmlite>=0.25.0dev0 in /usr/local/lib/python3.6/dist-packages (from numba>=0.37->umap-learn) (0.25.0)\n"
          ],
          "name": "stdout"
        }
      ]
    },
    {
      "metadata": {
        "id": "lnUOA-VzkyZ6",
        "colab_type": "code",
        "colab": {}
      },
      "cell_type": "code",
      "source": [
        "import umap\n",
        "from sklearn.decomposition import PCA \n",
        "#tsne de scikit tarda demasiado"
      ],
      "execution_count": 0,
      "outputs": []
    },
    {
      "metadata": {
        "id": "Rxn-rJwx3aq_",
        "colab_type": "code",
        "colab": {
          "base_uri": "https://localhost:8080/",
          "height": 51
        },
        "outputId": "273d621c-67d5-4dc4-e161-6e185cb4cafb"
      },
      "cell_type": "code",
      "source": [
        "%%time\n",
        "pca = PCA(n_components=3,\n",
        "            random_state=440)\n",
        "\n",
        "embedding1 = pca.fit_transform(full.values)\n",
        "embedding_df1 = pd.DataFrame(embedding1, columns=['x1', 'y1', 'z1'])"
      ],
      "execution_count": 23,
      "outputs": [
        {
          "output_type": "stream",
          "text": [
            "CPU times: user 6.12 s, sys: 2.18 s, total: 8.31 s\n",
            "Wall time: 4.6 s\n"
          ],
          "name": "stdout"
        }
      ]
    },
    {
      "metadata": {
        "id": "OLuTdpS0gAYp",
        "colab_type": "code",
        "colab": {
          "base_uri": "https://localhost:8080/",
          "height": 204
        },
        "outputId": "d0a89e10-7fa7-42dd-9bbd-e29b6622045b"
      },
      "cell_type": "code",
      "source": [
        "embedding_df1.sample(5)"
      ],
      "execution_count": 24,
      "outputs": [
        {
          "output_type": "execute_result",
          "data": {
            "text/html": [
              "<div>\n",
              "<style scoped>\n",
              "    .dataframe tbody tr th:only-of-type {\n",
              "        vertical-align: middle;\n",
              "    }\n",
              "\n",
              "    .dataframe tbody tr th {\n",
              "        vertical-align: top;\n",
              "    }\n",
              "\n",
              "    .dataframe thead th {\n",
              "        text-align: right;\n",
              "    }\n",
              "</style>\n",
              "<table border=\"1\" class=\"dataframe\">\n",
              "  <thead>\n",
              "    <tr style=\"text-align: right;\">\n",
              "      <th></th>\n",
              "      <th>x1</th>\n",
              "      <th>y1</th>\n",
              "      <th>z1</th>\n",
              "    </tr>\n",
              "  </thead>\n",
              "  <tbody>\n",
              "    <tr>\n",
              "      <th>177829</th>\n",
              "      <td>-0.674656</td>\n",
              "      <td>0.569644</td>\n",
              "      <td>-0.919855</td>\n",
              "    </tr>\n",
              "    <tr>\n",
              "      <th>414659</th>\n",
              "      <td>1.255770</td>\n",
              "      <td>-0.531006</td>\n",
              "      <td>-1.610488</td>\n",
              "    </tr>\n",
              "    <tr>\n",
              "      <th>381274</th>\n",
              "      <td>0.717581</td>\n",
              "      <td>-0.748439</td>\n",
              "      <td>-1.423003</td>\n",
              "    </tr>\n",
              "    <tr>\n",
              "      <th>268416</th>\n",
              "      <td>-1.074318</td>\n",
              "      <td>-0.304286</td>\n",
              "      <td>-0.033311</td>\n",
              "    </tr>\n",
              "    <tr>\n",
              "      <th>180122</th>\n",
              "      <td>2.051577</td>\n",
              "      <td>0.829329</td>\n",
              "      <td>-0.803018</td>\n",
              "    </tr>\n",
              "  </tbody>\n",
              "</table>\n",
              "</div>"
            ],
            "text/plain": [
              "              x1        y1        z1\n",
              "177829 -0.674656  0.569644 -0.919855\n",
              "414659  1.255770 -0.531006 -1.610488\n",
              "381274  0.717581 -0.748439 -1.423003\n",
              "268416 -1.074318 -0.304286 -0.033311\n",
              "180122  2.051577  0.829329 -0.803018"
            ]
          },
          "metadata": {
            "tags": []
          },
          "execution_count": 24
        }
      ]
    },
    {
      "metadata": {
        "id": "fhliAtoFjc9I",
        "colab_type": "code",
        "colab": {}
      },
      "cell_type": "code",
      "source": [
        "%%time\n",
        "# ver https://github.com/lmcinnes/umap/blob/master/notebooks/UMAP usage and parameters.ipynb\n",
        "\n",
        "umap_ = umap.UMAP(n_components=3)\n",
        "embedding2 = umap_.fit_transform(full.values)\n",
        "embedding_df2 = pd.DataFrame(embedding2, columns = ['x2', 'y2', 'z2'])"
      ],
      "execution_count": 0,
      "outputs": []
    },
    {
      "metadata": {
        "id": "BpchWlIuiM7-",
        "colab_type": "code",
        "colab": {}
      },
      "cell_type": "code",
      "source": [
        "embedding_df = pd.concat(embedding_df1,embedding_df2)\n",
        "embedding_df.index = full.index"
      ],
      "execution_count": 0,
      "outputs": []
    },
    {
      "metadata": {
        "id": "PfhmCg8CjjM5",
        "colab_type": "code",
        "colab": {}
      },
      "cell_type": "code",
      "source": [
        "embedding_df.sample(5)"
      ],
      "execution_count": 0,
      "outputs": []
    },
    {
      "metadata": {
        "id": "6bOHCmKvMVLf",
        "colab_type": "code",
        "colab": {}
      },
      "cell_type": "code",
      "source": [
        "import plotly.graph_objs as go\n",
        "from plotly.offline import download_plotlyjs, init_notebook_mode, plot, iplot"
      ],
      "execution_count": 0,
      "outputs": []
    },
    {
      "metadata": {
        "id": "Y_pMDDWYGEkY",
        "colab_type": "code",
        "colab": {}
      },
      "cell_type": "code",
      "source": [
        "scatter = go.Scatter3d(\n",
        "            name=embedding_df.index,\n",
        "            x=embedding_df['x1'],\n",
        "            y=embedding_df['y1'],\n",
        "            z=embedding_df['z1'],\n",
        "            text=embedding_df.index,\n",
        "            textposition='middle-center',\n",
        "            showlegend=False,\n",
        "            mode=plot_mode,\n",
        "            marker=dict(\n",
        "                size=3,\n",
        "                color='#ED9C69',\n",
        "                symbol='circle'\n",
        "            )\n",
        "        )\n"
      ],
      "execution_count": 0,
      "outputs": []
    },
    {
      "metadata": {
        "id": "sS-ejLJgMgl3",
        "colab_type": "code",
        "colab": {}
      },
      "cell_type": "code",
      "source": [
        "iplot(scatter)"
      ],
      "execution_count": 0,
      "outputs": []
    }
  ]
}