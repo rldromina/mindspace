{
 "cells": [
  {
   "cell_type": "code",
   "execution_count": 8,
   "metadata": {},
   "outputs": [],
   "source": [
    "# libreria para GUI\n",
    "import pygame\n",
    "# para funciones random\n",
    "import numpy as np \n",
    "# plotear\n",
    "import matplotlib.pyplot as plt\n",
    "# config en jupyter\n",
    "%matplotlib inline\n",
    "import seaborn as sns\n",
    "# para sonidito\n",
    "from IPython.display import Audio, display\n",
    "# para ocultar mensajes feos\n",
    "import warnings\n",
    "warnings.filterwarnings(\"ignore\")"
   ]
  },
  {
   "cell_type": "code",
   "execution_count": null,
   "metadata": {},
   "outputs": [],
   "source": [
    "!pip install keras-telegram-callback"
   ]
  },
  {
   "cell_type": "code",
   "execution_count": 9,
   "metadata": {},
   "outputs": [],
   "source": [
    "class Experimento(object):\n",
    "    def __init__(self, n_trials=10, backgr = (212, 212, 212), font='Verdana', font_size=23,\n",
    "          instr='Presione una tecla.', off_mean=0, off_std=0, tempo = 100, beep = False):\n",
    "        self.self = self\n",
    "        self.n_trials = n_trials\n",
    "        self.instructions = instr.split(\"\\n\")\n",
    "        self.tempo = tempo\n",
    "        self.beep = beep\n",
    "        self.off_mean, self.off_std = off_mean, off_std\n",
    "        self.t_stimuli, self.t_responses = [], []\n",
    "        self.backgr = backgr\n",
    "        self.font, self.font_size = font, font_size\n",
    "        self.name = 'Diego :D'\n",
    "\n",
    "    @staticmethod\n",
    "    def play_beep(f=440, s=0.1, A = 1):\n",
    "        framerate = 44100\n",
    "        t = np.linspace(0,s,framerate*s)\n",
    "        d = A * np.cos(2*np.pi*f*t)\n",
    "        display(Audio(d, rate=44100, autoplay = True))    \n",
    "\n",
    "    def instruct(self):\n",
    "        # Funcion para dar instrucciones y promptear al sujeto\n",
    "        count = 1\n",
    "        for inst in self.instructions:\n",
    "            instruction = self.font.render(inst, 1, (0, 0, 0))\n",
    "            # count multiplica la coord para que no se pisen\n",
    "            self.buffer.blit(instruction, ((self.width/2) - (instruction.get_rect().width/2),\n",
    "                                  (100 + (instruction.get_rect().height+10)*count)))\n",
    "            count += 1 \n",
    "\n",
    "        pygame.display.flip()\n",
    "\n",
    "        start = False\n",
    "        while not start:\n",
    "            for event in pygame.event.get():\n",
    "                if event.type == pygame.KEYDOWN:\n",
    "                    if event.key == pygame.K_ESCAPE:\n",
    "                        pygame.quit()\n",
    "                        exit()\n",
    "                    else:\n",
    "                        start = True\n",
    "                        break\n",
    "                        \n",
    "    def fixate(self, ms):\n",
    "        \"\"\"Genera punto de fijacion y guarda respuestas pre-estimulo\"\"\"\n",
    "        # tapa instrucciones\n",
    "        self.buffer.fill(self.backgr)\n",
    "\n",
    "        # dibuja fixation point\n",
    "        pygame.draw.line(self.buffer, (0, 0, 0), (self.width/2, self.height/2 - 20), (self.width/2, self.height/2 + 20), 2)    \n",
    "        pygame.draw.line(self.buffer, (0, 0, 0), (self.width/2 - 20, self.height/2), (self.width/2 + 20, self.height/2), 2)    \n",
    "        \n",
    "        pygame.display.flip()\n",
    "        t0 = pygame.time.get_ticks()\n",
    "        pressed = False\n",
    "        while pygame.time.get_ticks() < t0 + ms:\n",
    "            for event in pygame.event.get():\n",
    "                if event.type == pygame.KEYDOWN:\n",
    "                    if event.key == pygame.K_ESCAPE:\n",
    "                        pygame.quit()\n",
    "                        exit()\n",
    "                    else:\n",
    "                        self.t_responses.append(pygame.time.get_ticks())\n",
    "                        pressed = True\n",
    "        return pressed\n",
    "    \n",
    "    def rhythm_TR(self):\n",
    "        # Toma prueba de reaccion ritmica\n",
    "        duracion_stim_ms = 150\n",
    "        for _ in range(self.n_trials): \n",
    "            # espera el tiempo en ms correspondiente al tempo\n",
    "            off = np.random.normal(self.off_mean, self.off_std)\n",
    "            t = int((60/self.tempo) * 1000) + int(off)\n",
    "\n",
    "            pressed = self.fixate(t)\n",
    "            \n",
    "            # guardamos los tiempos en la lista de estimulos\n",
    "            self.t_stimuli.append(pygame.time.get_ticks())\n",
    "            \n",
    "            # muestra el circulo\n",
    "            pygame.draw.circle(self.buffer, (255, 0, 0), (int(self.width/2), int(self.height/2)), 200)\n",
    "            pygame.display.flip()\n",
    "            if self.beep:\n",
    "                self.play_beep()\n",
    "            \n",
    "            #si se anticipo, salteamos al prox\n",
    "            if pressed:\n",
    "                continue\n",
    "            \n",
    "            t0 = pygame.time.get_ticks()\n",
    "            running = True        \n",
    "            while pygame.time.get_ticks() < t0 + duracion_stim_ms:\n",
    "                for event in pygame.event.get():\n",
    "                    if event.type == pygame.KEYDOWN:\n",
    "                        if event.key == pygame.K_ESCAPE:\n",
    "                            pygame.quit()\n",
    "                            exit()\n",
    "                        else:\n",
    "                            self.t_responses.append(pygame.time.get_ticks())\n",
    "                            # Para pasar prox trial\n",
    "                            running = False\n",
    "    \n",
    "    def run(self):\n",
    "        # corre el experimento\n",
    "        pygame.init()\n",
    "        self.font =  pygame.font.SysFont(self.font, self.font_size)\n",
    "        self.width, self.height = pygame.display.Info().current_w, pygame.display.Info().current_h\n",
    "        self.buffer = pygame.display.set_mode((self.width, self.height), pygame.FULLSCREEN)\n",
    "        # color de fondo\n",
    "        self.buffer.fill(self.backgr)\n",
    "        pygame.display.flip()\n",
    "        # nombre de ventana\n",
    "        pygame.display.set_caption(self.name)\n",
    "        self.instruct()\n",
    "        self.rhythm_TR()\n",
    "        pygame.quit()\n",
    "    \n",
    "    def clean_data(self):\n",
    "        # Me quedo con la respuesta más cercana a cada estímulo\n",
    "        # para cada tiempo de estimulo, me quedo con el tiempo de respuesta que tenga la diferencia absoluta minima\n",
    "        r = []\n",
    "        for s in self.t_stimuli:\n",
    "            closest = self.t_responses[np.argmin([abs(s-r) for r in self.t_responses])]\n",
    "            err = closest - s\n",
    "            if abs(err) > 0.5*(60/self.tempo)*1000:\n",
    "                print('No response for stim {}'.format(self.t_stimuli.index(s)))\n",
    "                del s\n",
    "            else:\n",
    "                r.append(closest)\n",
    "        \n",
    "    \n",
    "    def get_data(self):\n",
    "        return self.t_stimuli, self.t_responses\n",
    "    \n",
    "    def plot_data(self):\n",
    "        errs = [(r-s) for s,r in zip(self.t_stimuli, self.t_responses)]\n",
    "        fig, ax = plt.subplots(1,2, figsize=(11,4))\n",
    "        ax[0].plot(errs);\n",
    "        ax[0].set_ylabel('Error (ms)')\n",
    "        ax[0].set_xlabel('Trials (tr)')\n",
    "        sns.distplot(errs, ax=ax[1])\n",
    "        ax[1].set_ylabel('Frequencia')\n",
    "        ax[1].yaxis.set_label_position(\"right\")\n",
    "        ax[1].set_xlabel('Error (ms)')\n",
    "        plt.show()"
   ]
  },
  {
   "cell_type": "code",
   "execution_count": 10,
   "metadata": {},
   "outputs": [],
   "source": [
    "instr = \"Aparecerá un círculo rojo en pantalla. Presione una tecla apenas lo vea. \\n Presione ENTER para comenzar.\"\n",
    "\n",
    "exp = Experimento(instr=instr, n_trials=40, tempo=80, beep=True)"
   ]
  },
  {
   "cell_type": "raw",
   "metadata": {},
   "source": [
    "exp.t_stimuli = stim\n",
    "exp.t_responses = resp"
   ]
  },
  {
   "cell_type": "code",
   "execution_count": null,
   "metadata": {},
   "outputs": [],
   "source": [
    "%%capture\n",
    "#exp.run()"
   ]
  },
  {
   "cell_type": "code",
   "execution_count": 33,
   "metadata": {},
   "outputs": [
    {
     "name": "stdout",
     "output_type": "stream",
     "text": [
      "No response for stim 0\n",
      "No response for stim 1\n"
     ]
    }
   ],
   "source": [
    "exp.clean_data()"
   ]
  },
  {
   "cell_type": "code",
   "execution_count": 34,
   "metadata": {},
   "outputs": [
    {
     "data": {
      "text/plain": [
       "(40, 44)"
      ]
     },
     "execution_count": 34,
     "metadata": {},
     "output_type": "execute_result"
    }
   ],
   "source": [
    "stim, resp = exp.get_data()\n",
    "len(stim), len(resp)"
   ]
  },
  {
   "cell_type": "code",
   "execution_count": 37,
   "metadata": {},
   "outputs": [
    {
     "data": {
      "image/png": "[encoded data removed]",
      "text/plain": [
       "<Figure size 792x288 with 2 Axes>"
      ]
     },
     "metadata": {},
     "output_type": "display_data"
    }
   ],
   "source": [
    "exp.plot_data()"
   ]
  },
  {
   "cell_type": "raw",
   "metadata": {},
   "source": [
    "Se podría interferir poniendo música al mismo tiempo o con un \"beep\" diferido a la imagen. También podria variar la localizacion del circulo o alguna propiedad, planteando la hipótesis de que al disparar también neuronas de mayor jerarquía la activación\n",
    "debería ser más rápida... o más lenta por requerir más procesamiento :P"
   ]
  }
 ],
 "metadata": {
  "kernelspec": {
   "display_name": "Python 3",
   "language": "python",
   "name": "python3"
  },
  "language_info": {
   "codemirror_mode": {
    "name": "ipython",
    "version": 3
   },
   "file_extension": ".py",
   "mimetype": "text/x-python",
   "name": "python",
   "nbconvert_exporter": "python",
   "pygments_lexer": "ipython3",
   "version": "3.6.6"
  }
 },
 "nbformat": 4,
 "nbformat_minor": 2
}
